{
 "cells": [
  {
   "cell_type": "code",
   "execution_count": 7,
   "metadata": {},
   "outputs": [
    {
     "name": "stdout",
     "output_type": "stream",
     "text": [
      "Requirement already satisfied: matplotlib in c:\\users\\admin\\appdata\\local\\programs\\python\\python311\\lib\\site-packages (3.7.2)\n",
      "Requirement already satisfied: pandas in c:\\users\\admin\\appdata\\local\\programs\\python\\python311\\lib\\site-packages (2.1.0)\n",
      "Requirement already satisfied: numpy in c:\\users\\admin\\appdata\\local\\programs\\python\\python311\\lib\\site-packages (1.25.2)\n",
      "Requirement already satisfied: seaborn in c:\\users\\admin\\appdata\\local\\programs\\python\\python311\\lib\\site-packages (0.13.0)\n",
      "Requirement already satisfied: wordcloud in c:\\users\\admin\\appdata\\local\\programs\\python\\python311\\lib\\site-packages (1.9.2)\n",
      "Requirement already satisfied: IPython in c:\\users\\admin\\appdata\\local\\programs\\python\\python311\\lib\\site-packages (8.15.0)\n",
      "Requirement already satisfied: plotly in c:\\users\\admin\\appdata\\local\\programs\\python\\python311\\lib\\site-packages (5.18.0)\n",
      "Requirement already satisfied: leather in c:\\users\\admin\\appdata\\local\\programs\\python\\python311\\lib\\site-packages (0.3.4)\n",
      "Requirement already satisfied: ip2geotools in c:\\users\\admin\\appdata\\local\\programs\\python\\python311\\lib\\site-packages (0.1.6)\n",
      "Requirement already satisfied: openpyxl in c:\\users\\admin\\appdata\\local\\programs\\python\\python311\\lib\\site-packages (3.1.2)\n",
      "Requirement already satisfied: langdetect in c:\\users\\admin\\appdata\\local\\programs\\python\\python311\\lib\\site-packages (1.0.9)\n",
      "Requirement already satisfied: geopy in c:\\users\\admin\\appdata\\local\\programs\\python\\python311\\lib\\site-packages (2.4.1)\n",
      "Requirement already satisfied: googletrans in c:\\users\\admin\\appdata\\local\\programs\\python\\python311\\lib\\site-packages (4.0.0rc1)\n",
      "Requirement already satisfied: pmdarima in c:\\users\\admin\\appdata\\local\\programs\\python\\python311\\lib\\site-packages (2.0.4)\n",
      "Requirement already satisfied: contourpy>=1.0.1 in c:\\users\\admin\\appdata\\local\\programs\\python\\python311\\lib\\site-packages (from matplotlib) (1.1.0)\n",
      "Requirement already satisfied: cycler>=0.10 in c:\\users\\admin\\appdata\\local\\programs\\python\\python311\\lib\\site-packages (from matplotlib) (0.11.0)\n",
      "Requirement already satisfied: fonttools>=4.22.0 in c:\\users\\admin\\appdata\\local\\programs\\python\\python311\\lib\\site-packages (from matplotlib) (4.42.1)\n",
      "Requirement already satisfied: kiwisolver>=1.0.1 in c:\\users\\admin\\appdata\\local\\programs\\python\\python311\\lib\\site-packages (from matplotlib) (1.4.5)\n",
      "Requirement already satisfied: packaging>=20.0 in c:\\users\\admin\\appdata\\local\\programs\\python\\python311\\lib\\site-packages (from matplotlib) (23.1)\n",
      "Requirement already satisfied: pillow>=6.2.0 in c:\\users\\admin\\appdata\\local\\programs\\python\\python311\\lib\\site-packages (from matplotlib) (10.0.0)\n",
      "Requirement already satisfied: pyparsing<3.1,>=2.3.1 in c:\\users\\admin\\appdata\\local\\programs\\python\\python311\\lib\\site-packages (from matplotlib) (3.0.9)\n",
      "Requirement already satisfied: python-dateutil>=2.7 in c:\\users\\admin\\appdata\\local\\programs\\python\\python311\\lib\\site-packages (from matplotlib) (2.8.2)\n",
      "Requirement already satisfied: pytz>=2020.1 in c:\\users\\admin\\appdata\\local\\programs\\python\\python311\\lib\\site-packages (from pandas) (2023.3.post1)\n",
      "Requirement already satisfied: tzdata>=2022.1 in c:\\users\\admin\\appdata\\local\\programs\\python\\python311\\lib\\site-packages (from pandas) (2023.3)\n",
      "Requirement already satisfied: backcall in c:\\users\\admin\\appdata\\local\\programs\\python\\python311\\lib\\site-packages (from IPython) (0.2.0)\n",
      "Requirement already satisfied: decorator in c:\\users\\admin\\appdata\\local\\programs\\python\\python311\\lib\\site-packages (from IPython) (5.1.1)\n",
      "Requirement already satisfied: jedi>=0.16 in c:\\users\\admin\\appdata\\local\\programs\\python\\python311\\lib\\site-packages (from IPython) (0.19.0)\n",
      "Requirement already satisfied: matplotlib-inline in c:\\users\\admin\\appdata\\local\\programs\\python\\python311\\lib\\site-packages (from IPython) (0.1.6)\n",
      "Requirement already satisfied: pickleshare in c:\\users\\admin\\appdata\\local\\programs\\python\\python311\\lib\\site-packages (from IPython) (0.7.5)\n",
      "Requirement already satisfied: prompt-toolkit!=3.0.37,<3.1.0,>=3.0.30 in c:\\users\\admin\\appdata\\local\\programs\\python\\python311\\lib\\site-packages (from IPython) (3.0.39)\n",
      "Requirement already satisfied: pygments>=2.4.0 in c:\\users\\admin\\appdata\\local\\programs\\python\\python311\\lib\\site-packages (from IPython) (2.16.1)\n",
      "Requirement already satisfied: stack-data in c:\\users\\admin\\appdata\\local\\programs\\python\\python311\\lib\\site-packages (from IPython) (0.6.2)\n",
      "Requirement already satisfied: traitlets>=5 in c:\\users\\admin\\appdata\\local\\programs\\python\\python311\\lib\\site-packages (from IPython) (5.9.0)\n",
      "Requirement already satisfied: colorama in c:\\users\\admin\\appdata\\local\\programs\\python\\python311\\lib\\site-packages (from IPython) (0.4.6)\n",
      "Requirement already satisfied: tenacity>=6.2.0 in c:\\users\\admin\\appdata\\local\\programs\\python\\python311\\lib\\site-packages (from plotly) (8.2.3)\n",
      "Requirement already satisfied: six>=1.6.1 in c:\\users\\admin\\appdata\\local\\programs\\python\\python311\\lib\\site-packages (from leather) (1.16.0)\n",
      "Requirement already satisfied: astroid>=2.1.0 in c:\\users\\admin\\appdata\\local\\programs\\python\\python311\\lib\\site-packages (from ip2geotools) (3.0.1)\n",
      "Requirement already satisfied: autopep8>=1.4.3 in c:\\users\\admin\\appdata\\local\\programs\\python\\python311\\lib\\site-packages (from ip2geotools) (2.0.4)\n",
      "Requirement already satisfied: bleach>=3.0.2 in c:\\users\\admin\\appdata\\local\\programs\\python\\python311\\lib\\site-packages (from ip2geotools) (6.0.0)\n",
      "Requirement already satisfied: certifi>=2018.10.15 in c:\\users\\admin\\appdata\\local\\programs\\python\\python311\\lib\\site-packages (from ip2geotools) (2023.7.22)\n",
      "Requirement already satisfied: chardet>=3.0.4 in c:\\users\\admin\\appdata\\local\\programs\\python\\python311\\lib\\site-packages (from ip2geotools) (3.0.4)\n",
      "Requirement already satisfied: Click>=7.0 in c:\\users\\admin\\appdata\\local\\programs\\python\\python311\\lib\\site-packages (from ip2geotools) (8.1.7)\n",
      "Requirement already satisfied: cssselect>=1.0.3 in c:\\users\\admin\\appdata\\local\\programs\\python\\python311\\lib\\site-packages (from ip2geotools) (1.2.0)\n",
      "Requirement already satisfied: dicttoxml>=1.7.4 in c:\\users\\admin\\appdata\\local\\programs\\python\\python311\\lib\\site-packages (from ip2geotools) (1.7.16)\n",
      "Requirement already satisfied: docutils>=0.14 in c:\\users\\admin\\appdata\\local\\programs\\python\\python311\\lib\\site-packages (from ip2geotools) (0.20.1)\n",
      "Requirement already satisfied: future>=0.17.1 in c:\\users\\admin\\appdata\\local\\programs\\python\\python311\\lib\\site-packages (from ip2geotools) (0.18.3)\n",
      "Requirement already satisfied: geocoder>=1.38.1 in c:\\users\\admin\\appdata\\local\\programs\\python\\python311\\lib\\site-packages (from ip2geotools) (1.38.1)\n",
      "Requirement already satisfied: geoip2>=2.9.0 in c:\\users\\admin\\appdata\\local\\programs\\python\\python311\\lib\\site-packages (from ip2geotools) (4.7.0)\n",
      "Requirement already satisfied: idna>=2.7 in c:\\users\\admin\\appdata\\local\\programs\\python\\python311\\lib\\site-packages (from ip2geotools) (2.10)\n",
      "Requirement already satisfied: IP2Location>=8.0.3 in c:\\users\\admin\\appdata\\local\\programs\\python\\python311\\lib\\site-packages (from ip2geotools) (8.10.1)\n",
      "Requirement already satisfied: isort>=4.3.4 in c:\\users\\admin\\appdata\\local\\programs\\python\\python311\\lib\\site-packages (from ip2geotools) (5.12.0)\n",
      "Requirement already satisfied: lazy-object-proxy>=1.3.1 in c:\\users\\admin\\appdata\\local\\programs\\python\\python311\\lib\\site-packages (from ip2geotools) (1.9.0)\n",
      "Requirement already satisfied: lxml>=4.2.5 in c:\\users\\admin\\appdata\\local\\programs\\python\\python311\\lib\\site-packages (from ip2geotools) (4.9.3)\n",
      "Requirement already satisfied: maxminddb>=1.4.1 in c:\\users\\admin\\appdata\\local\\programs\\python\\python311\\lib\\site-packages (from ip2geotools) (2.5.1)\n",
      "Requirement already satisfied: mccabe>=0.6.1 in c:\\users\\admin\\appdata\\local\\programs\\python\\python311\\lib\\site-packages (from ip2geotools) (0.7.0)\n",
      "Requirement already satisfied: pip-review>=1.0 in c:\\users\\admin\\appdata\\local\\programs\\python\\python311\\lib\\site-packages (from ip2geotools) (1.3.0)\n",
      "Requirement already satisfied: pkginfo>=1.4.2 in c:\\users\\admin\\appdata\\local\\programs\\python\\python311\\lib\\site-packages (from ip2geotools) (1.9.6)\n",
      "Requirement already satisfied: pycodestyle>=2.4.0 in c:\\users\\admin\\appdata\\local\\programs\\python\\python311\\lib\\site-packages (from ip2geotools) (2.11.1)\n",
      "Requirement already satisfied: pylint>=2.2.0 in c:\\users\\admin\\appdata\\local\\programs\\python\\python311\\lib\\site-packages (from ip2geotools) (3.0.2)\n",
      "Requirement already satisfied: pyquery>=1.4.0 in c:\\users\\admin\\appdata\\local\\programs\\python\\python311\\lib\\site-packages (from ip2geotools) (2.0.0)\n",
      "Requirement already satisfied: ratelim>=0.1.6 in c:\\users\\admin\\appdata\\local\\programs\\python\\python311\\lib\\site-packages (from ip2geotools) (0.1.6)\n",
      "Requirement already satisfied: readme-renderer>=24.0 in c:\\users\\admin\\appdata\\local\\programs\\python\\python311\\lib\\site-packages (from ip2geotools) (42.0)\n",
      "Requirement already satisfied: requests>=2.20.1 in c:\\users\\admin\\appdata\\local\\programs\\python\\python311\\lib\\site-packages (from ip2geotools) (2.31.0)\n",
      "Requirement already satisfied: requests-toolbelt>=0.8.0 in c:\\users\\admin\\appdata\\local\\programs\\python\\python311\\lib\\site-packages (from ip2geotools) (1.0.0)\n",
      "Requirement already satisfied: selenium>=3.141.0 in c:\\users\\admin\\appdata\\local\\programs\\python\\python311\\lib\\site-packages (from ip2geotools) (4.15.2)\n",
      "Requirement already satisfied: tqdm>=4.28.1 in c:\\users\\admin\\appdata\\local\\programs\\python\\python311\\lib\\site-packages (from ip2geotools) (4.66.1)\n",
      "Requirement already satisfied: twine>=1.12.1 in c:\\users\\admin\\appdata\\local\\programs\\python\\python311\\lib\\site-packages (from ip2geotools) (4.0.2)\n",
      "Requirement already satisfied: typed-ast>=1.1.0 in c:\\users\\admin\\appdata\\local\\programs\\python\\python311\\lib\\site-packages (from ip2geotools) (1.5.5)\n",
      "Requirement already satisfied: typing>=3.6.6 in c:\\users\\admin\\appdata\\local\\programs\\python\\python311\\lib\\site-packages (from ip2geotools) (3.7.4.3)\n",
      "Requirement already satisfied: urllib3>=1.24.1 in c:\\users\\admin\\appdata\\local\\programs\\python\\python311\\lib\\site-packages (from ip2geotools) (1.26.18)\n",
      "Requirement already satisfied: webencodings>=0.5.1 in c:\\users\\admin\\appdata\\local\\programs\\python\\python311\\lib\\site-packages (from ip2geotools) (0.5.1)\n",
      "Requirement already satisfied: wrapt>=1.10.11 in c:\\users\\admin\\appdata\\local\\programs\\python\\python311\\lib\\site-packages (from ip2geotools) (1.16.0)\n",
      "Requirement already satisfied: et-xmlfile in c:\\users\\admin\\appdata\\local\\programs\\python\\python311\\lib\\site-packages (from openpyxl) (1.1.0)\n",
      "Requirement already satisfied: geographiclib<3,>=1.52 in c:\\users\\admin\\appdata\\local\\programs\\python\\python311\\lib\\site-packages (from geopy) (2.0)\n",
      "Requirement already satisfied: httpx==0.13.3 in c:\\users\\admin\\appdata\\local\\programs\\python\\python311\\lib\\site-packages (from googletrans) (0.13.3)\n",
      "Requirement already satisfied: hstspreload in c:\\users\\admin\\appdata\\local\\programs\\python\\python311\\lib\\site-packages (from httpx==0.13.3->googletrans) (2023.1.1)\n",
      "Requirement already satisfied: sniffio in c:\\users\\admin\\appdata\\local\\programs\\python\\python311\\lib\\site-packages (from httpx==0.13.3->googletrans) (1.3.0)\n",
      "Requirement already satisfied: rfc3986<2,>=1.3 in c:\\users\\admin\\appdata\\local\\programs\\python\\python311\\lib\\site-packages (from httpx==0.13.3->googletrans) (1.5.0)\n",
      "Requirement already satisfied: httpcore==0.9.* in c:\\users\\admin\\appdata\\local\\programs\\python\\python311\\lib\\site-packages (from httpx==0.13.3->googletrans) (0.9.1)\n",
      "Requirement already satisfied: h11<0.10,>=0.8 in c:\\users\\admin\\appdata\\local\\programs\\python\\python311\\lib\\site-packages (from httpcore==0.9.*->httpx==0.13.3->googletrans) (0.9.0)\n",
      "Requirement already satisfied: h2==3.* in c:\\users\\admin\\appdata\\local\\programs\\python\\python311\\lib\\site-packages (from httpcore==0.9.*->httpx==0.13.3->googletrans) (3.2.0)\n",
      "Requirement already satisfied: hyperframe<6,>=5.2.0 in c:\\users\\admin\\appdata\\local\\programs\\python\\python311\\lib\\site-packages (from h2==3.*->httpcore==0.9.*->httpx==0.13.3->googletrans) (5.2.0)\n",
      "Requirement already satisfied: hpack<4,>=3.0 in c:\\users\\admin\\appdata\\local\\programs\\python\\python311\\lib\\site-packages (from h2==3.*->httpcore==0.9.*->httpx==0.13.3->googletrans) (3.0.0)\n",
      "Requirement already satisfied: joblib>=0.11 in c:\\users\\admin\\appdata\\local\\programs\\python\\python311\\lib\\site-packages (from pmdarima) (1.3.2)\n",
      "Requirement already satisfied: Cython!=0.29.18,!=0.29.31,>=0.29 in c:\\users\\admin\\appdata\\local\\programs\\python\\python311\\lib\\site-packages (from pmdarima) (3.0.6)\n",
      "Requirement already satisfied: scikit-learn>=0.22 in c:\\users\\admin\\appdata\\local\\programs\\python\\python311\\lib\\site-packages (from pmdarima) (1.3.2)\n",
      "Requirement already satisfied: scipy>=1.3.2 in c:\\users\\admin\\appdata\\local\\programs\\python\\python311\\lib\\site-packages (from pmdarima) (1.11.2)\n",
      "Requirement already satisfied: statsmodels>=0.13.2 in c:\\users\\admin\\appdata\\local\\programs\\python\\python311\\lib\\site-packages (from pmdarima) (0.14.0)\n",
      "Requirement already satisfied: setuptools!=50.0.0,>=38.6.0 in c:\\users\\admin\\appdata\\local\\programs\\python\\python311\\lib\\site-packages (from pmdarima) (69.0.2)\n",
      "Requirement already satisfied: aiohttp<4.0.0,>=3.6.2 in c:\\users\\admin\\appdata\\local\\programs\\python\\python311\\lib\\site-packages (from geoip2>=2.9.0->ip2geotools) (3.9.1)\n",
      "Requirement already satisfied: parso<0.9.0,>=0.8.3 in c:\\users\\admin\\appdata\\local\\programs\\python\\python311\\lib\\site-packages (from jedi>=0.16->IPython) (0.8.3)\n",
      "Requirement already satisfied: pip in c:\\users\\admin\\appdata\\local\\programs\\python\\python311\\lib\\site-packages (from pip-review>=1.0->ip2geotools) (23.2.1)\n",
      "Requirement already satisfied: wcwidth in c:\\users\\admin\\appdata\\local\\programs\\python\\python311\\lib\\site-packages (from prompt-toolkit!=3.0.37,<3.1.0,>=3.0.30->IPython) (0.2.6)\n",
      "Requirement already satisfied: platformdirs>=2.2.0 in c:\\users\\admin\\appdata\\local\\programs\\python\\python311\\lib\\site-packages (from pylint>=2.2.0->ip2geotools) (3.10.0)\n",
      "Requirement already satisfied: tomlkit>=0.10.1 in c:\\users\\admin\\appdata\\local\\programs\\python\\python311\\lib\\site-packages (from pylint>=2.2.0->ip2geotools) (0.12.3)\n",
      "Requirement already satisfied: dill>=0.3.6 in c:\\users\\admin\\appdata\\local\\programs\\python\\python311\\lib\\site-packages (from pylint>=2.2.0->ip2geotools) (0.3.7)\n",
      "Requirement already satisfied: nh3>=0.2.14 in c:\\users\\admin\\appdata\\local\\programs\\python\\python311\\lib\\site-packages (from readme-renderer>=24.0->ip2geotools) (0.2.14)\n",
      "Requirement already satisfied: charset-normalizer<4,>=2 in c:\\users\\admin\\appdata\\local\\programs\\python\\python311\\lib\\site-packages (from requests>=2.20.1->ip2geotools) (3.2.0)\n",
      "Requirement already satisfied: threadpoolctl>=2.0.0 in c:\\users\\admin\\appdata\\local\\programs\\python\\python311\\lib\\site-packages (from scikit-learn>=0.22->pmdarima) (3.2.0)\n",
      "Requirement already satisfied: trio~=0.17 in c:\\users\\admin\\appdata\\local\\programs\\python\\python311\\lib\\site-packages (from selenium>=3.141.0->ip2geotools) (0.23.1)\n",
      "Requirement already satisfied: trio-websocket~=0.9 in c:\\users\\admin\\appdata\\local\\programs\\python\\python311\\lib\\site-packages (from selenium>=3.141.0->ip2geotools) (0.11.1)\n",
      "Requirement already satisfied: patsy>=0.5.2 in c:\\users\\admin\\appdata\\local\\programs\\python\\python311\\lib\\site-packages (from statsmodels>=0.13.2->pmdarima) (0.5.4)\n",
      "Requirement already satisfied: importlib-metadata>=3.6 in c:\\users\\admin\\appdata\\local\\programs\\python\\python311\\lib\\site-packages (from twine>=1.12.1->ip2geotools) (6.8.0)\n",
      "Requirement already satisfied: keyring>=15.1 in c:\\users\\admin\\appdata\\local\\programs\\python\\python311\\lib\\site-packages (from twine>=1.12.1->ip2geotools) (24.3.0)\n",
      "Requirement already satisfied: rich>=12.0.0 in c:\\users\\admin\\appdata\\local\\programs\\python\\python311\\lib\\site-packages (from twine>=1.12.1->ip2geotools) (13.7.0)\n",
      "Requirement already satisfied: executing>=1.2.0 in c:\\users\\admin\\appdata\\local\\programs\\python\\python311\\lib\\site-packages (from stack-data->IPython) (1.2.0)\n",
      "Requirement already satisfied: asttokens>=2.1.0 in c:\\users\\admin\\appdata\\local\\programs\\python\\python311\\lib\\site-packages (from stack-data->IPython) (2.4.0)\n",
      "Requirement already satisfied: pure-eval in c:\\users\\admin\\appdata\\local\\programs\\python\\python311\\lib\\site-packages (from stack-data->IPython) (0.2.2)\n",
      "Requirement already satisfied: attrs>=17.3.0 in c:\\users\\admin\\appdata\\local\\programs\\python\\python311\\lib\\site-packages (from aiohttp<4.0.0,>=3.6.2->geoip2>=2.9.0->ip2geotools) (23.1.0)\n",
      "Requirement already satisfied: multidict<7.0,>=4.5 in c:\\users\\admin\\appdata\\local\\programs\\python\\python311\\lib\\site-packages (from aiohttp<4.0.0,>=3.6.2->geoip2>=2.9.0->ip2geotools) (6.0.4)\n",
      "Requirement already satisfied: yarl<2.0,>=1.0 in c:\\users\\admin\\appdata\\local\\programs\\python\\python311\\lib\\site-packages (from aiohttp<4.0.0,>=3.6.2->geoip2>=2.9.0->ip2geotools) (1.9.3)\n",
      "Requirement already satisfied: frozenlist>=1.1.1 in c:\\users\\admin\\appdata\\local\\programs\\python\\python311\\lib\\site-packages (from aiohttp<4.0.0,>=3.6.2->geoip2>=2.9.0->ip2geotools) (1.4.0)\n",
      "Requirement already satisfied: aiosignal>=1.1.2 in c:\\users\\admin\\appdata\\local\\programs\\python\\python311\\lib\\site-packages (from aiohttp<4.0.0,>=3.6.2->geoip2>=2.9.0->ip2geotools) (1.3.1)\n",
      "Requirement already satisfied: zipp>=0.5 in c:\\users\\admin\\appdata\\local\\programs\\python\\python311\\lib\\site-packages (from importlib-metadata>=3.6->twine>=1.12.1->ip2geotools) (3.17.0)\n",
      "Requirement already satisfied: jaraco.classes in c:\\users\\admin\\appdata\\local\\programs\\python\\python311\\lib\\site-packages (from keyring>=15.1->twine>=1.12.1->ip2geotools) (3.3.0)\n",
      "Requirement already satisfied: pywin32-ctypes>=0.2.0 in c:\\users\\admin\\appdata\\local\\programs\\python\\python311\\lib\\site-packages (from keyring>=15.1->twine>=1.12.1->ip2geotools) (0.2.2)\n",
      "Requirement already satisfied: markdown-it-py>=2.2.0 in c:\\users\\admin\\appdata\\local\\programs\\python\\python311\\lib\\site-packages (from rich>=12.0.0->twine>=1.12.1->ip2geotools) (3.0.0)\n",
      "Requirement already satisfied: sortedcontainers in c:\\users\\admin\\appdata\\local\\programs\\python\\python311\\lib\\site-packages (from trio~=0.17->selenium>=3.141.0->ip2geotools) (2.4.0)\n",
      "Requirement already satisfied: outcome in c:\\users\\admin\\appdata\\local\\programs\\python\\python311\\lib\\site-packages (from trio~=0.17->selenium>=3.141.0->ip2geotools) (1.3.0.post0)\n",
      "Requirement already satisfied: cffi>=1.14 in c:\\users\\admin\\appdata\\local\\programs\\python\\python311\\lib\\site-packages (from trio~=0.17->selenium>=3.141.0->ip2geotools) (1.15.1)\n",
      "Requirement already satisfied: wsproto>=0.14 in c:\\users\\admin\\appdata\\local\\programs\\python\\python311\\lib\\site-packages (from trio-websocket~=0.9->selenium>=3.141.0->ip2geotools) (1.2.0)\n",
      "Requirement already satisfied: PySocks!=1.5.7,<2.0,>=1.5.6 in c:\\users\\admin\\appdata\\local\\programs\\python\\python311\\lib\\site-packages (from urllib3>=1.24.1->ip2geotools) (1.7.1)\n",
      "Requirement already satisfied: pycparser in c:\\users\\admin\\appdata\\local\\programs\\python\\python311\\lib\\site-packages (from cffi>=1.14->trio~=0.17->selenium>=3.141.0->ip2geotools) (2.21)\n",
      "Requirement already satisfied: mdurl~=0.1 in c:\\users\\admin\\appdata\\local\\programs\\python\\python311\\lib\\site-packages (from markdown-it-py>=2.2.0->rich>=12.0.0->twine>=1.12.1->ip2geotools) (0.1.2)\n",
      "Requirement already satisfied: more-itertools in c:\\users\\admin\\appdata\\local\\programs\\python\\python311\\lib\\site-packages (from jaraco.classes->keyring>=15.1->twine>=1.12.1->ip2geotools) (10.1.0)\n",
      "Note: you may need to restart the kernel to use updated packages.\n"
     ]
    },
    {
     "name": "stderr",
     "output_type": "stream",
     "text": [
      "\n",
      "[notice] A new release of pip is available: 23.2.1 -> 23.3.1\n",
      "[notice] To update, run: python.exe -m pip install --upgrade pip\n"
     ]
    }
   ],
   "source": [
    "%pip install matplotlib pandas numpy seaborn wordcloud IPython plotly leather ip2geotools openpyxl langdetect geopy googletrans pmdarima"
   ]
  },
  {
   "cell_type": "code",
   "execution_count": 8,
   "metadata": {},
   "outputs": [],
   "source": [
    "import pandas as pd"
   ]
  },
  {
   "cell_type": "code",
   "execution_count": 9,
   "metadata": {},
   "outputs": [],
   "source": [
    "raw_df = pd.read_excel('Last.xlsx')"
   ]
  },
  {
   "cell_type": "code",
   "execution_count": 10,
   "metadata": {},
   "outputs": [
    {
     "name": "stdout",
     "output_type": "stream",
     "text": [
      "<class 'pandas.core.frame.DataFrame'>\n",
      "RangeIndex: 128 entries, 0 to 127\n",
      "Data columns (total 51 columns):\n",
      " #   Column                         Non-Null Count  Dtype         \n",
      "---  ------                         --------------  -----         \n",
      " 0   post_id                        128 non-null    int64         \n",
      " 1   text                           119 non-null    object        \n",
      " 2   post_text                      119 non-null    object        \n",
      " 3   shared_text                    19 non-null     object        \n",
      " 4   original_text                  29 non-null     object        \n",
      " 5   time                           128 non-null    datetime64[ns]\n",
      " 6   timestamp                      128 non-null    int64         \n",
      " 7   image                          68 non-null     object        \n",
      " 8   image_lowquality               125 non-null    object        \n",
      " 9   images                         128 non-null    object        \n",
      " 10  images_description             128 non-null    object        \n",
      " 11  images_lowquality              128 non-null    object        \n",
      " 12  images_lowquality_description  128 non-null    object        \n",
      " 13  video                          30 non-null     object        \n",
      " 14  video_duration_seconds         0 non-null      float64       \n",
      " 15  video_height                   0 non-null      float64       \n",
      " 16  video_id                       30 non-null     float64       \n",
      " 17  video_quality                  0 non-null      float64       \n",
      " 18  video_size_MB                  0 non-null      float64       \n",
      " 19  video_thumbnail                30 non-null     object        \n",
      " 20  video_watches                  0 non-null      float64       \n",
      " 21  video_width                    0 non-null      float64       \n",
      " 22  likes                          0 non-null      float64       \n",
      " 23  comments                       128 non-null    int64         \n",
      " 24  shares                         128 non-null    int64         \n",
      " 25  post_url                       128 non-null    object        \n",
      " 26  link                           33 non-null     object        \n",
      " 27  links                          128 non-null    object        \n",
      " 28  user_id                        128 non-null    int64         \n",
      " 29  username                       128 non-null    object        \n",
      " 30  user_url                       128 non-null    object        \n",
      " 31  is_live                        128 non-null    bool          \n",
      " 32  factcheck                      0 non-null      float64       \n",
      " 33  shared_post_id                 1 non-null      float64       \n",
      " 34  shared_time                    1 non-null      datetime64[ns]\n",
      " 35  shared_user_id                 1 non-null      float64       \n",
      " 36  shared_username                1 non-null      object        \n",
      " 37  shared_post_url                1 non-null      object        \n",
      " 38  available                      128 non-null    bool          \n",
      " 39  comments_full                  128 non-null    object        \n",
      " 40  reactors                       128 non-null    object        \n",
      " 41  w3_fb_url                      128 non-null    object        \n",
      " 42  reactions                      128 non-null    object        \n",
      " 43  reaction_count                 128 non-null    int64         \n",
      " 44  with                           3 non-null      object        \n",
      " 45  page_id                        128 non-null    int64         \n",
      " 46  sharers                        0 non-null      float64       \n",
      " 47  image_id                       56 non-null     float64       \n",
      " 48  image_ids                      128 non-null    object        \n",
      " 49  was_live                       128 non-null    bool          \n",
      " 50  fetched_time                   128 non-null    datetime64[ns]\n",
      "dtypes: bool(3), datetime64[ns](3), float64(13), int64(7), object(25)\n",
      "memory usage: 48.5+ KB\n"
     ]
    }
   ],
   "source": [
    "raw_df.info()"
   ]
  },
  {
   "cell_type": "code",
   "execution_count": 11,
   "metadata": {},
   "outputs": [],
   "source": [
    "for col in raw_df.columns:\n",
    "    lost = raw_df[col].isna().sum()\n",
    "    per = lost/ len(raw_df) * 100\n",
    "    if per > 90:\n",
    "     raw_df.drop(col, axis=1, inplace=True)\n",
    "clean_df = raw_df"
   ]
  },
  {
   "cell_type": "code",
   "execution_count": 6,
   "metadata": {},
   "outputs": [
    {
     "name": "stdout",
     "output_type": "stream",
     "text": [
      "Stored 'clean_df' (DataFrame)\n"
     ]
    }
   ],
   "source": [
    "%store clean_df"
   ]
  }
 ],
 "metadata": {
  "kernelspec": {
   "display_name": "Python 3",
   "language": "python",
   "name": "python3"
  },
  "language_info": {
   "codemirror_mode": {
    "name": "ipython",
    "version": 3
   },
   "file_extension": ".py",
   "mimetype": "text/x-python",
   "name": "python",
   "nbconvert_exporter": "python",
   "pygments_lexer": "ipython3",
   "version": "3.11.4"
  }
 },
 "nbformat": 4,
 "nbformat_minor": 2
}
